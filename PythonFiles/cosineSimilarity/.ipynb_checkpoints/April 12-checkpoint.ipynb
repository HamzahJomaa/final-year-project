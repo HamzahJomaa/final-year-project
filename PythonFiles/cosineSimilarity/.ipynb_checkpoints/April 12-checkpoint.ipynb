{
 "cells": [
  {
   "cell_type": "code",
   "execution_count": 1,
   "id": "cd8a9847",
   "metadata": {},
   "outputs": [],
   "source": [
    "%matplotlib inline\n",
    "import pandas as pd\n",
    "import numpy as np\n",
    "import matplotlib.pyplot as plt\n",
    "import seaborn as sns\n",
    "from scipy import stats\n",
    "from ast import literal_eval\n",
    "from sklearn.feature_extraction.text import TfidfVectorizer, CountVectorizer\n",
    "from sklearn.metrics.pairwise import linear_kernel, cosine_similarity\n",
    "from nltk.stem.snowball import SnowballStemmer\n",
    "from nltk.stem.wordnet import WordNetLemmatizer\n",
    "from nltk.corpus import wordnet\n",
    "from surprise import Reader, Dataset, SVD\n",
    "from scipy.sparse import csr_matrix\n",
    "\n",
    "\n",
    "import mongodb as md\n",
    "\n",
    "import warnings; warnings.simplefilter('ignore')\n",
    "movies = pd.read_csv(\"movies_metadata.csv\")\n",
    "movies['year'] = pd.to_datetime(movies['release_date'], errors='coerce').apply(lambda x: str(x).split('-')[0] if x != np.nan else np.nan)\n",
    "movies = movies.drop([19730, 29503, 35587])\n",
    "movies['genres'] = movies['genres'].fillna('[]').apply(literal_eval).apply(lambda x: [i['name'] for i in x] if isinstance(x, list) else [])\n",
    "\n",
    "\n",
    "small_links = pd.read_csv(\"small_links.csv\")\n",
    "ratings = pd.read_csv(\"ratings_small.csv\")\n",
    "movies = movies.rename(columns={'id':'movieId'})\n",
    "movies[\"movieId\"] = movies[\"movieId\"].astype(\"int\")"
   ]
  },
  {
   "cell_type": "code",
   "execution_count": 32,
   "id": "f7e5dd7b",
   "metadata": {},
   "outputs": [
    {
     "data": {
      "text/html": [
       "<div>\n",
       "<style scoped>\n",
       "    .dataframe tbody tr th:only-of-type {\n",
       "        vertical-align: middle;\n",
       "    }\n",
       "\n",
       "    .dataframe tbody tr th {\n",
       "        vertical-align: top;\n",
       "    }\n",
       "\n",
       "    .dataframe thead th {\n",
       "        text-align: right;\n",
       "    }\n",
       "</style>\n",
       "<table border=\"1\" class=\"dataframe\">\n",
       "  <thead>\n",
       "    <tr style=\"text-align: right;\">\n",
       "      <th></th>\n",
       "      <th>movieId</th>\n",
       "      <th>title</th>\n",
       "      <th>userId</th>\n",
       "      <th>rating</th>\n",
       "      <th>totalRating</th>\n",
       "    </tr>\n",
       "  </thead>\n",
       "  <tbody>\n",
       "    <tr>\n",
       "      <th>219</th>\n",
       "      <td>2054</td>\n",
       "      <td>Mr. Holland's Opus</td>\n",
       "      <td>4</td>\n",
       "      <td>3.0</td>\n",
       "      <td>76</td>\n",
       "    </tr>\n",
       "    <tr>\n",
       "      <th>220</th>\n",
       "      <td>2054</td>\n",
       "      <td>Mr. Holland's Opus</td>\n",
       "      <td>15</td>\n",
       "      <td>2.0</td>\n",
       "      <td>76</td>\n",
       "    </tr>\n",
       "    <tr>\n",
       "      <th>221</th>\n",
       "      <td>2054</td>\n",
       "      <td>Mr. Holland's Opus</td>\n",
       "      <td>30</td>\n",
       "      <td>1.0</td>\n",
       "      <td>76</td>\n",
       "    </tr>\n",
       "    <tr>\n",
       "      <th>222</th>\n",
       "      <td>2054</td>\n",
       "      <td>Mr. Holland's Opus</td>\n",
       "      <td>43</td>\n",
       "      <td>2.0</td>\n",
       "      <td>76</td>\n",
       "    </tr>\n",
       "    <tr>\n",
       "      <th>223</th>\n",
       "      <td>2054</td>\n",
       "      <td>Mr. Holland's Opus</td>\n",
       "      <td>49</td>\n",
       "      <td>2.0</td>\n",
       "      <td>76</td>\n",
       "    </tr>\n",
       "  </tbody>\n",
       "</table>\n",
       "</div>"
      ],
      "text/plain": [
       "     movieId               title  userId  rating  totalRating\n",
       "219     2054  Mr. Holland's Opus       4     3.0           76\n",
       "220     2054  Mr. Holland's Opus      15     2.0           76\n",
       "221     2054  Mr. Holland's Opus      30     1.0           76\n",
       "222     2054  Mr. Holland's Opus      43     2.0           76\n",
       "223     2054  Mr. Holland's Opus      49     2.0           76"
      ]
     },
     "execution_count": 32,
     "metadata": {},
     "output_type": "execute_result"
    }
   ],
   "source": [
    "knn_ratings = ratings[[\"userId\",\"movieId\",\"rating\"]]\n",
    "knn_movies = movies[[\"movieId\",\"title\"]]\n",
    "knn_movie_ratings = pd.merge(knn_movies,knn_ratings,on=\"movieId\")\n",
    "\n",
    "movie_rating_count = (knn_movie_ratings.\n",
    "                      groupby(by=[\"title\"])[\"rating\"].\n",
    "                      count().reset_index().\n",
    "                      rename(columns={'rating':'totalRating'})\n",
    "                      [[\"title\",\"totalRating\"]]\n",
    "                     )\n",
    "rating_with_totalRatingCount=knn_movie_ratings.merge(movie_rating_count,left_on='title',right_on='title',how=\"inner\")\n",
    "\n",
    "popularity_threshold=70\n",
    "rating_popular_movie=rating_with_totalRatingCount[rating_with_totalRatingCount['totalRating']>popularity_threshold]\n",
    "rating_popular_movie.head()"
   ]
  },
  {
   "cell_type": "code",
   "execution_count": 33,
   "id": "3b94c889",
   "metadata": {},
   "outputs": [],
   "source": [
    "combined = rating_popular_movie.drop_duplicates(['userId','title'])\n",
    "combined = combined.pivot(index=\"title\",columns=\"userId\",values=\"rating\").fillna(0)\n",
    "knn_rating_user_csr = csr_matrix(combined.values)"
   ]
  },
  {
   "cell_type": "code",
   "execution_count": 34,
   "id": "25580b55",
   "metadata": {},
   "outputs": [
    {
     "data": {
      "text/plain": [
       "NearestNeighbors(algorithm='brute', metric='cosine')"
      ]
     },
     "execution_count": 34,
     "metadata": {},
     "output_type": "execute_result"
    }
   ],
   "source": [
    "from sklearn.neighbors import NearestNeighbors\n",
    "model_knn=NearestNeighbors(metric=\"cosine\",algorithm=\"brute\")\n",
    "model_knn.fit(knn_rating_user_csr)"
   ]
  },
  {
   "cell_type": "code",
   "execution_count": 35,
   "id": "556132c6",
   "metadata": {},
   "outputs": [
    {
     "name": "stdout",
     "output_type": "stream",
     "text": [
      "userId\n",
      "2      3.0\n",
      "3      3.0\n",
      "4      5.0\n",
      "5      3.5\n",
      "6      0.0\n",
      "      ... \n",
      "667    0.0\n",
      "668    0.0\n",
      "669    0.0\n",
      "670    0.0\n",
      "671    4.0\n",
      "Name: Silent Hill, Length: 658, dtype: float64\n",
      "Distances --> [[1.11022302e-15 2.68051545e-01 3.03361260e-01 3.85584215e-01\n",
      "  3.98009527e-01]]  Indices --> [[ 92 132  18  79  63]]\n",
      "[1.11022302e-15 2.68051545e-01 3.03361260e-01 3.85584215e-01\n",
      " 3.98009527e-01]\n",
      "5\n",
      "Recommendation for Silent Hill:\n",
      "\n",
      "1: To Kill a Mockingbird, with distance of 0.26805154514014184:\n",
      "2: Batman Returns, with distance of 0.30336126037089606:\n",
      "3: Rain Man, with distance of 0.38558421543210364:\n",
      "4: Monsoon Wedding, with distance of 0.39800952668320855:\n"
     ]
    }
   ],
   "source": [
    "query_index=92\n",
    "print(combined.iloc[query_index,:])\n",
    " \n",
    "distances,indices=model_knn.kneighbors(combined.iloc[query_index,:].values.reshape(1,-1),n_neighbors=5)\n",
    "print(\"Distances -->\",distances,\" Indices -->\",indices)\n",
    " \n",
    "print(distances.flatten())\n",
    "print(len(distances.flatten()))\n",
    " \n",
    "for i in range(0,len(distances.flatten())):\n",
    "    if i==0:\n",
    "        print(\"Recommendation for {0}:\\n\".format(combined.index[query_index]))\n",
    "    else:\n",
    "        print(\"{0}: {1}, with distance of {2}:\".format(i,combined.index[indices.flatten()[i]],distances.flatten()[i]))"
   ]
  },
  {
   "cell_type": "code",
   "execution_count": 12,
   "id": "8f1f5ce5",
   "metadata": {},
   "outputs": [],
   "source": [
    "columns = ['distances','indices']\n",
    "df = pd.DataFrame(columns=columns)\n",
    "df['distances'] = pd.Series(distances[0])\n",
    "df['indices'] = pd.Series(indices[0])\n",
    "df[\"title\"] = combined.index[df[\"indices\"]]"
   ]
  },
  {
   "cell_type": "code",
   "execution_count": 13,
   "id": "6a0b13eb",
   "metadata": {},
   "outputs": [
    {
     "ename": "SyntaxError",
     "evalue": "invalid character '‘' (U+2018) (3832907175.py, line 5)",
     "output_type": "error",
     "traceback": [
      "\u001b[0;36m  File \u001b[0;32m\"/var/folders/mr/3szmdm1d3sj80jkk3tl1c_t40000gp/T/ipykernel_19772/3832907175.py\"\u001b[0;36m, line \u001b[0;32m5\u001b[0m\n\u001b[0;31m    print(‘Film input’, favorite_movie)\u001b[0m\n\u001b[0m          ^\u001b[0m\n\u001b[0;31mSyntaxError\u001b[0m\u001b[0;31m:\u001b[0m invalid character '‘' (U+2018)\n"
     ]
    }
   ],
   "source": [
    "def recommendation(model_knn, data, mapper, favorite_movie, n_recommendations):\n",
    "    # fit\n",
    "    model_knn.fit(data)\n",
    "    # get our movie index\n",
    "    print('Film input', favorite_movie)\n",
    "    index = fuzzy_matcher(mapper, favorite_movie, verbose=True)\n",
    "    print('Popular recommendations:')\n",
    "    print(‘…..\\n’)\n",
    "    distances, indices = model_knn.kneighbors(data[index], n_neighbors=n_recommendations+1)\n",
    "    raw_recommends = sorted(list(zip(indices.squeeze().tolist(), distances.squeeze().tolist())), key=lambda x: x[1])[:0:-1]\n",
    "    # reverse mapping and unflattening\n",
    "    reverse_mapper = {v: k for k, v in mapper.items()}\n",
    "    # print recommendations\n",
    "    print(‘Here are more movies similar {}:’.format(favorite_movie))\n",
    "    for i, (index, dist) in enumerate(raw_recommends):\n",
    "        print(‘{0}: {1}, with distance of {2}’.format(i+1, reverse_mapper[index], dist))"
   ]
  },
  {
   "cell_type": "code",
   "execution_count": null,
   "id": "7f4004ed",
   "metadata": {},
   "outputs": [],
   "source": []
  }
 ],
 "metadata": {
  "kernelspec": {
   "display_name": "Python 3 (ipykernel)",
   "language": "python",
   "name": "python3"
  },
  "language_info": {
   "codemirror_mode": {
    "name": "ipython",
    "version": 3
   },
   "file_extension": ".py",
   "mimetype": "text/x-python",
   "name": "python",
   "nbconvert_exporter": "python",
   "pygments_lexer": "ipython3",
   "version": "3.9.7"
  }
 },
 "nbformat": 4,
 "nbformat_minor": 5
}
